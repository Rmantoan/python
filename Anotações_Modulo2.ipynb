{
  "nbformat": 4,
  "nbformat_minor": 0,
  "metadata": {
    "colab": {
      "name": "Anotações_Modulo1.ipynb",
      "provenance": [],
      "toc_visible": true,
      "collapsed_sections": [
        "CtbGWMTResFF"
      ]
    },
    "kernelspec": {
      "name": "python3",
      "display_name": "Python 3"
    },
    "language_info": {
      "name": "python"
    }
  },
  "cells": [
    {
      "cell_type": "markdown",
      "source": [
        "# Módulo 1"
      ],
      "metadata": {
        "id": "CtbGWMTResFF"
      }
    },
    {
      "cell_type": "code",
      "execution_count": null,
      "metadata": {
        "colab": {
          "base_uri": "https://localhost:8080/"
        },
        "id": "B4jyF4I3I7cp",
        "outputId": "70d48531-6341-4572-f67d-9db5145f385c"
      },
      "outputs": [
        {
          "output_type": "stream",
          "name": "stdout",
          "text": [
            "30\n",
            "27\n",
            "Rafael\n"
          ]
        }
      ],
      "source": [
        "idade = 30\n",
        "print (idade)\n",
        "\n",
        "idade = 27\n",
        "print (idade)\n",
        "\n",
        "nome = \"Rafael\"\n",
        "print (nome)"
      ]
    },
    {
      "cell_type": "code",
      "source": [
        "qtd_items_carrinho_compra = 0\n",
        "\n",
        "qtd_items_carrinho_compra = qtd_items_carrinho_compra +1 \n",
        "print (qtd_items_carrinho_compra)\n"
      ],
      "metadata": {
        "colab": {
          "base_uri": "https://localhost:8080/"
        },
        "id": "KZmw4ySnOttZ",
        "outputId": "5f8d0177-4921-4851-9c07-6d6693d1abf4"
      },
      "execution_count": null,
      "outputs": [
        {
          "output_type": "stream",
          "name": "stdout",
          "text": [
            "1\n"
          ]
        }
      ]
    },
    {
      "cell_type": "markdown",
      "source": [
        "**Mesma coisa do exemplo acima, porém mais enxuto **"
      ],
      "metadata": {
        "id": "XZQ0X-znPTMP"
      }
    },
    {
      "cell_type": "code",
      "source": [
        "qtd_items_carrinho_compra = 0\n",
        "\n",
        "qtd_items_carrinho_compra += 1 \n",
        "print (qtd_items_carrinho_compra)"
      ],
      "metadata": {
        "colab": {
          "base_uri": "https://localhost:8080/"
        },
        "id": "ngH0GwQSPjEr",
        "outputId": "30f6ec77-065b-4151-f26a-dd0a80d81e01"
      },
      "execution_count": null,
      "outputs": [
        {
          "output_type": "stream",
          "name": "stdout",
          "text": [
            "1\n"
          ]
        }
      ]
    },
    {
      "cell_type": "markdown",
      "source": [
        "EXEMPLO DE MULTIPLICAÇÃO "
      ],
      "metadata": {
        "id": "5PNnOnFuPxCO"
      }
    },
    {
      "cell_type": "code",
      "source": [
        "preco = 47\n",
        "qntd = 0.25\n",
        "\n",
        "total_pagar = preco * qntd\n",
        "print (total_pagar)"
      ],
      "metadata": {
        "colab": {
          "base_uri": "https://localhost:8080/"
        },
        "id": "2l6er90mP33N",
        "outputId": "2ab55b1c-999b-4281-8a76-74b99e77091f"
      },
      "execution_count": null,
      "outputs": [
        {
          "output_type": "stream",
          "name": "stdout",
          "text": [
            "11.75\n"
          ]
        }
      ]
    },
    {
      "cell_type": "markdown",
      "source": [
        "EXEMPLO DE DIVISÃO COMUM E DIVISÂO DO TIPO INTEIRO "
      ],
      "metadata": {
        "id": "GnoJgEakQ0KH"
      }
    },
    {
      "cell_type": "code",
      "source": [
        "a = 3\n",
        "b = 2\n",
        "\n",
        "c = a/b  \n",
        "print (c)\n",
        "print (type(c))\n",
        "\n",
        "#Exemplo de divisão inteira (//)\n",
        "\n",
        "d = a//b\n",
        "print (d)\n",
        "print (type(d))"
      ],
      "metadata": {
        "colab": {
          "base_uri": "https://localhost:8080/"
        },
        "id": "8Of3ChYiQ8-c",
        "outputId": "254fc9b6-aab5-4ab0-a2ed-01a2f66bcd32"
      },
      "execution_count": null,
      "outputs": [
        {
          "output_type": "stream",
          "name": "stdout",
          "text": [
            "1.5\n",
            "<class 'float'>\n",
            "1\n",
            "<class 'int'>\n"
          ]
        }
      ]
    },
    {
      "cell_type": "markdown",
      "source": [
        "**CONVERÇÃO **"
      ],
      "metadata": {
        "id": "fEJsCa31SWId"
      }
    },
    {
      "cell_type": "code",
      "source": [
        "print(int(3.9))"
      ],
      "metadata": {
        "colab": {
          "base_uri": "https://localhost:8080/"
        },
        "id": "a6T5B_3kSaGx",
        "outputId": "57d9e66c-e751-4c5e-9ff4-536db054e5bf"
      },
      "execution_count": null,
      "outputs": [
        {
          "output_type": "stream",
          "name": "stdout",
          "text": [
            "3\n"
          ]
        }
      ]
    },
    {
      "cell_type": "code",
      "source": [
        "print(float(3.9))"
      ],
      "metadata": {
        "colab": {
          "base_uri": "https://localhost:8080/"
        },
        "id": "Oh6PhdutSoEO",
        "outputId": "4e562d2a-41cf-4b2a-9f16-ba3fdcdbe177"
      },
      "execution_count": null,
      "outputs": [
        {
          "output_type": "stream",
          "name": "stdout",
          "text": [
            "3.9\n"
          ]
        }
      ]
    },
    {
      "cell_type": "code",
      "source": [
        "print(complex(1))  # uma variável imaginária é representada pela letra j"
      ],
      "metadata": {
        "colab": {
          "base_uri": "https://localhost:8080/"
        },
        "id": "U7n2BH6iSnyz",
        "outputId": "6e775556-150e-413a-bf24-1b6a3f11862e"
      },
      "execution_count": null,
      "outputs": [
        {
          "output_type": "stream",
          "name": "stdout",
          "text": [
            "(1+0j)\n"
          ]
        }
      ]
    },
    {
      "cell_type": "markdown",
      "source": [
        "AULA 4 - STRINGS"
      ],
      "metadata": {
        "id": "TVwW8nbhUAjS"
      }
    },
    {
      "cell_type": "markdown",
      "source": [
        "Armazena TEXTO\n",
        "\n",
        "* C, EBCA, Rafael Mantoan, 20 anos... \n",
        "\n",
        "São do tipo str:"
      ],
      "metadata": {
        "id": "VJ65mtjvVSzI"
      }
    },
    {
      "cell_type": "code",
      "source": [
        "nome_aula = 'Aula 04, Mósulo 01, Strings'\n",
        "\n",
        "print (nome_aula)\n",
        "print(type(nome_aula))"
      ],
      "metadata": {
        "colab": {
          "base_uri": "https://localhost:8080/"
        },
        "id": "zFKtBLf4UF2s",
        "outputId": "38ba866b-52c0-4f29-a6e9-6a82e4795aa2"
      },
      "execution_count": null,
      "outputs": [
        {
          "output_type": "stream",
          "name": "stdout",
          "text": [
            "Aula 04, Mósulo 01, Strings\n",
            "<class 'str'>\n"
          ]
        }
      ]
    },
    {
      "cell_type": "markdown",
      "source": [
        "4.3 Operações "
      ],
      "metadata": {
        "id": "PdObbnrtWBsx"
      }
    },
    {
      "cell_type": "markdown",
      "source": [
        "Operação de variáveis do tipo *STRING* são \n",
        "\n",
        "* + (concatenação)\n",
        "\n",
        "EXEMPLO: Nome completo"
      ],
      "metadata": {
        "id": "zRhZr4k4WGrg"
      }
    },
    {
      "cell_type": "code",
      "source": [
        "nome = \"Rafael\"\n",
        "sobrenome = \"Mantoan\"\n",
        "\n",
        "apresentacao = 'Olá, meu nome é ' + nome + ' '+sobrenome+ '.'\n",
        "print(apresentacao)"
      ],
      "metadata": {
        "colab": {
          "base_uri": "https://localhost:8080/"
        },
        "id": "-0shEKOtWXCg",
        "outputId": "2e873594-bf6c-43fb-d87c-81e591b23672"
      },
      "execution_count": null,
      "outputs": [
        {
          "output_type": "stream",
          "name": "stdout",
          "text": [
            "Olá, meu nome é Rafael Mantoan.\n"
          ]
        }
      ]
    },
    {
      "cell_type": "markdown",
      "source": [
        "Uma outra forma de concatenar é :"
      ],
      "metadata": {
        "id": "SHsXhAinXaho"
      }
    },
    {
      "cell_type": "code",
      "source": [
        "nome = 'Rafael'\n",
        "sobrenome = 'Mantoan'\n",
        "\n",
        "apresentacao = f'Olá, meu nome é {nome} {sobrenome}' # Não pode ter espaço entre o f e ' que inicia a frase, e as chaves tem que estar dentro do fechamento do mesmo.\n",
        "print(apresentacao)"
      ],
      "metadata": {
        "colab": {
          "base_uri": "https://localhost:8080/"
        },
        "id": "RYWzemy7XfkW",
        "outputId": "de3f8fc7-30f3-4bfa-853e-b18ae8161b32"
      },
      "execution_count": null,
      "outputs": [
        {
          "output_type": "stream",
          "name": "stdout",
          "text": [
            "Olá, meu nome é Rafael Mantoan\n"
          ]
        }
      ]
    },
    {
      "cell_type": "markdown",
      "source": [
        "FATIAMENTO (slicing)\n",
        "\n",
        "Ex.: Informação de e-mail."
      ],
      "metadata": {
        "id": "A-Eog0SQY2I4"
      }
    },
    {
      "cell_type": "code",
      "source": [
        "email = 'andre.perez@gmail.com'\n",
        "\n",
        "#Fatiamento FIXO\n",
        "\n",
        "print('0:' + email[0])\n",
        "print('11:' + email[11])\n",
        "\n",
        "#Invertendo a contagem (de traz para frente)\n",
        "\n",
        "print('-1:'+ email[-1])\n",
        "print('-4:'+ email[-4])"
      ],
      "metadata": {
        "colab": {
          "base_uri": "https://localhost:8080/"
        },
        "id": "2phRwx4LZe71",
        "outputId": "f95f7e75-662b-4bb6-bc83-5925cee25847"
      },
      "execution_count": null,
      "outputs": [
        {
          "output_type": "stream",
          "name": "stdout",
          "text": [
            "0:a\n",
            "11:@\n",
            "-1:m\n",
            "-4:.\n"
          ]
        }
      ]
    },
    {
      "cell_type": "markdown",
      "source": [
        "FATIAMENTO p/ Intervalo"
      ],
      "metadata": {
        "id": "v8xrhiFzbUbb"
      }
    },
    {
      "cell_type": "code",
      "source": [
        "email = 'andre.perez@gmail.com'\n",
        "\n",
        "email_usuario= email[0:11]\n",
        "print(email_usuario)\n",
        "\n",
        "# no intervalor ele vai trazer o último valor que foi especificado -1, como podemos verificar na resposta abaixo"
      ],
      "metadata": {
        "colab": {
          "base_uri": "https://localhost:8080/"
        },
        "id": "97snQFPpbYMM",
        "outputId": "e3aba7fa-9bef-46c9-a385-722999a094e4"
      },
      "execution_count": null,
      "outputs": [
        {
          "output_type": "stream",
          "name": "stdout",
          "text": [
            "andre.perez\n"
          ]
        }
      ]
    },
    {
      "cell_type": "code",
      "source": [
        "email_provedor= email[11:21]\n",
        "print(email_provedor)\n",
        "\n",
        "# nesta caso, obervamos que acrescentamos um valor a mais na cordenado para que o print venha  completo"
      ],
      "metadata": {
        "colab": {
          "base_uri": "https://localhost:8080/"
        },
        "id": "urMUXODub7HZ",
        "outputId": "eb0d3192-e366-41fd-a32c-5a56732a522d"
      },
      "execution_count": null,
      "outputs": [
        {
          "output_type": "stream",
          "name": "stdout",
          "text": [
            "@gmail.com\n"
          ]
        }
      ]
    },
    {
      "cell_type": "markdown",
      "source": [
        "MÉTODOS \n"
      ],
      "metadata": {
        "id": "PkNCdaRbdpUp"
      }
    },
    {
      "cell_type": "code",
      "source": [
        "endereco = 'Avenida Paulista, 1811, São Paulo, São Paulo, Brasil.'\n",
        "\n",
        "# para deixar todas as letras em Maiusculas usamos o recurso UPPER. SINTAXE: (variavel.upper())\n",
        "\n",
        "print(endereco.upper())"
      ],
      "metadata": {
        "colab": {
          "base_uri": "https://localhost:8080/"
        },
        "id": "Oqa0gwBGdtlO",
        "outputId": "cc5681d7-9ae8-4e93-bb95-0ac472f7ae8a"
      },
      "execution_count": null,
      "outputs": [
        {
          "output_type": "stream",
          "name": "stdout",
          "text": [
            "AVENIDA PAULISTA, 1811, SÃO PAULO, SÃO PAULO, BRASIL.\n"
          ]
        }
      ]
    },
    {
      "cell_type": "code",
      "source": [
        "# Para localizar uma string dentro da variável de texto usamos o FIND. SINTAXE: variavel.find('nome a ser localizado')\n",
        "# Assim que localizado ele traz o indice q começa a string\n",
        "\n",
        "posicao1 = endereco.find('1811')\n",
        "print(posicao1)\n",
        "\n",
        "#Já neste caso, como sabemos que não a string q estamos procrando não consta em nossa variavel, o mesmo nos retorna -1...\n",
        "posicao = endereco.find('Andre')\n",
        "print(posicao)\n"
      ],
      "metadata": {
        "colab": {
          "base_uri": "https://localhost:8080/"
        },
        "id": "EB5NcNf6eiSI",
        "outputId": "12449a13-d2cf-4689-b0a0-d20e859329a1"
      },
      "execution_count": null,
      "outputs": [
        {
          "output_type": "stream",
          "name": "stdout",
          "text": [
            "18\n",
            "-1\n"
          ]
        }
      ]
    },
    {
      "cell_type": "code",
      "source": [
        "# O metódo REPLACE vai substituir uma string por outra. SINTAXE:\n",
        "\n",
        "print(endereco.replace('Avenida','Av'))"
      ],
      "metadata": {
        "colab": {
          "base_uri": "https://localhost:8080/"
        },
        "id": "g46XD-pbgM6R",
        "outputId": "ff164109-7c00-4b5f-d2fc-bae31c514574"
      },
      "execution_count": null,
      "outputs": [
        {
          "output_type": "stream",
          "name": "stdout",
          "text": [
            "Av Paulista, 1811, São Paulo, São Paulo, Brasil.\n"
          ]
        }
      ]
    },
    {
      "cell_type": "code",
      "source": [
        ""
      ],
      "metadata": {
        "id": "ER79sQJ8jUG-"
      },
      "execution_count": null,
      "outputs": []
    },
    {
      "cell_type": "markdown",
      "source": [
        "o atributo LEN vai me dizer a qntd de caracteres em uma string "
      ],
      "metadata": {
        "id": "_Tk-CysojYOK"
      }
    },
    {
      "cell_type": "markdown",
      "source": [
        "# Modulo 2"
      ],
      "metadata": {
        "id": "Nm-huJzQe2JH"
      }
    },
    {
      "cell_type": "markdown",
      "source": [
        "**LISTAS **"
      ],
      "metadata": {
        "id": "X_GL7GRbe7X1"
      }
    },
    {
      "cell_type": "markdown",
      "source": [
        "Armazena sequências mutáveis e ordenadas de valores. São do tipo list."
      ],
      "metadata": {
        "id": "YrJGKpMgfsu8"
      }
    },
    {
      "cell_type": "code",
      "source": [
        "usuario_web = ['André Perez', 'andre perez', 'andre123', 'andre.perez@gmail.com']\n",
        "\n",
        "print(usuario_web)\n",
        "print(type(usuario_web))"
      ],
      "metadata": {
        "colab": {
          "base_uri": "https://localhost:8080/"
        },
        "id": "lNjR7JPde9zy",
        "outputId": "e169f208-cd64-431d-ac5f-ebabb882d4f6"
      },
      "execution_count": null,
      "outputs": [
        {
          "output_type": "stream",
          "name": "stdout",
          "text": [
            "['André Perez', 'andre perez', 'andre123', 'andre.perez@gmail.com']\n",
            "<class 'list'>\n"
          ]
        }
      ]
    },
    {
      "cell_type": "markdown",
      "source": [
        "na variavél list, podemos misturas os tipos de dados..."
      ],
      "metadata": {
        "id": "62Ds9ftghKbD"
      }
    },
    {
      "cell_type": "code",
      "source": [
        "# Acrescentando dados a lista...  \n",
        "\n",
        "idade = 20\n",
        "saldo_conta = 723.15\n",
        "usuario_loggedin = True\n",
        "\n",
        "usuario_web = ['André Perez', idade, 'andre perez', 'andre123', 'andre.perez@gmail.com', saldo_conta, usuario_loggedin]\n",
        "\n",
        "print(usuario_web)\n",
        "print(type(usuario_web))"
      ],
      "metadata": {
        "colab": {
          "base_uri": "https://localhost:8080/"
        },
        "id": "ekBKJAHZhiPR",
        "outputId": "5648e5de-59ba-4dfa-a647-c7bb570211dd"
      },
      "execution_count": null,
      "outputs": [
        {
          "output_type": "stream",
          "name": "stdout",
          "text": [
            "['André Perez', 20, 'andre perez', 'andre123', 'andre.perez@gmail.com', 723.15, True]\n",
            "<class 'list'>\n"
          ]
        }
      ]
    },
    {
      "cell_type": "markdown",
      "source": [
        "**OPERADOS PARA LISTAS**"
      ],
      "metadata": {
        "id": "KNYIPVXqiNxi"
      }
    },
    {
      "cell_type": "markdown",
      "source": [
        "Temos a operação de concatenação (+) para a estrutura do tipo list..."
      ],
      "metadata": {
        "id": "TlcCantNie_C"
      }
    },
    {
      "cell_type": "code",
      "source": [
        "fabricante_china = ['xiomi', 'huawei']\n",
        "fabricante_eua =['aplle', 'motorola']\n",
        "fabricante_mobile = fabricante_china + fabricante_eua\n",
        "\n",
        "print(fabricante_china)\n",
        "print(fabricante_eua)\n",
        "print(fabricante_mobile)"
      ],
      "metadata": {
        "colab": {
          "base_uri": "https://localhost:8080/"
        },
        "id": "IA7LTd0viSKQ",
        "outputId": "6d1b13d1-3153-4a26-db3a-254d4e38247a"
      },
      "execution_count": null,
      "outputs": [
        {
          "output_type": "stream",
          "name": "stdout",
          "text": [
            "['xiomi', 'huawei']\n",
            "['aplle', 'motorola']\n",
            "['xiomi', 'huawei', 'aplle', 'motorola']\n"
          ]
        }
      ]
    },
    {
      "cell_type": "markdown",
      "source": [
        "Outra operação utilizada é a de fatiamento (slicing), semelhante ao de strings:"
      ],
      "metadata": {
        "id": "21Fh3RnokBDD"
      }
    },
    {
      "cell_type": "markdown",
      "source": [
        "Ex. Fatiamento FIxo:"
      ],
      "metadata": {
        "id": "z4yp4koSkQ8n"
      }
    },
    {
      "cell_type": "code",
      "source": [
        "print(f'0: {fabricante_mobile[0]}')\n",
        "print(f'-1: {fabricante_mobile[-1]}')"
      ],
      "metadata": {
        "colab": {
          "base_uri": "https://localhost:8080/"
        },
        "id": "40IUwaTNkXMv",
        "outputId": "32f79a6b-4c7c-48e7-c2f9-2ada1f54939e"
      },
      "execution_count": null,
      "outputs": [
        {
          "output_type": "stream",
          "name": "stdout",
          "text": [
            "0: xiomi\n",
            "-1: motorola\n"
          ]
        }
      ]
    },
    {
      "cell_type": "markdown",
      "source": [
        "EX. Fatiamento p/ intervalo"
      ],
      "metadata": {
        "id": "HnkBbLCEk_HJ"
      }
    },
    {
      "cell_type": "code",
      "source": [
        "\n",
        "fabricante_china = fabricante_mobile[0:2]\n",
        "fabricante_eua = fabricante_mobile[2:len(fabricante_mobile)] # lembrando que \"len\" quer dizer que ele vai trazer todos os dados até o final da lista\n",
        "\n",
        "print('china' + str(fabricante_china))\n",
        "print('eua' + str(fabricante_eua))\n"
      ],
      "metadata": {
        "colab": {
          "base_uri": "https://localhost:8080/"
        },
        "id": "QDu48leFlH6Y",
        "outputId": "dea33dec-ba90-4e97-9d98-8ccd6c0e9a56"
      },
      "execution_count": null,
      "outputs": [
        {
          "output_type": "stream",
          "name": "stdout",
          "text": [
            "china['xiomi', 'huawei']\n",
            "eua['aplle', 'motorola']\n"
          ]
        }
      ]
    },
    {
      "cell_type": "markdown",
      "source": [
        "Alterando um elemento especifico;\n"
      ],
      "metadata": {
        "id": "je9iFJ8vn2Lt"
      }
    },
    {
      "cell_type": "code",
      "source": [
        "print(fabricante_mobile)"
      ],
      "metadata": {
        "colab": {
          "base_uri": "https://localhost:8080/"
        },
        "id": "20-nnNeqn8dU",
        "outputId": "a54493ac-72a3-42cc-c1d4-657337e8260a"
      },
      "execution_count": null,
      "outputs": [
        {
          "output_type": "stream",
          "name": "stdout",
          "text": [
            "['xiomi', 'huawei', 'aplle', 'motorola']\n"
          ]
        }
      ]
    },
    {
      "cell_type": "code",
      "source": [
        "fabricante_mobile[2] = 'nokia'\n",
        "print(fabricante_mobile)"
      ],
      "metadata": {
        "colab": {
          "base_uri": "https://localhost:8080/"
        },
        "id": "3dPZjV6doJb8",
        "outputId": "0cea9cf1-164f-4b64-ceb9-68d49e536c2a"
      },
      "execution_count": null,
      "outputs": [
        {
          "output_type": "stream",
          "name": "stdout",
          "text": [
            "['xiomi', 'huawei', 'nokia', 'motorola']\n"
          ]
        }
      ]
    },
    {
      "cell_type": "markdown",
      "source": [
        "Mutável = sujeito a mudança, alterável..."
      ],
      "metadata": {
        "id": "_865FIVyo1GV"
      }
    },
    {
      "cell_type": "markdown",
      "source": [
        "**MÉTODOS de manipulação**"
      ],
      "metadata": {
        "id": "ZPx-Jpq-przj"
      }
    },
    {
      "cell_type": "markdown",
      "source": [
        "Inserindo um elemento a lista:"
      ],
      "metadata": {
        "id": "N0poXRKNpvsJ"
      }
    },
    {
      "cell_type": "code",
      "source": [
        "juros = [0.05, 0.07, 0.02, 0.04, 0.08]\n",
        "print(juros)"
      ],
      "metadata": {
        "colab": {
          "base_uri": "https://localhost:8080/"
        },
        "id": "SLpM2J-Yp0Xs",
        "outputId": "8feefeb5-353d-4a44-d235-0fe1b66ece3b"
      },
      "execution_count": null,
      "outputs": [
        {
          "output_type": "stream",
          "name": "stdout",
          "text": [
            "[0.05, 0.07, 0.02, 0.04, 0.08]\n"
          ]
        }
      ]
    },
    {
      "cell_type": "code",
      "source": [
        "# Utilizando o método insert vamos adicionar o elemento. SINTAXE list.insert(index,elemento) \n",
        "# Observe que o medo possui 2 parâmetros, index=posição a ser inserida e elemento. Veja ex. abaixo:\n",
        "\n",
        "juros.insert(0,0.10)\n",
        "print(juros)"
      ],
      "metadata": {
        "colab": {
          "base_uri": "https://localhost:8080/"
        },
        "id": "Cd77uWTRqEAb",
        "outputId": "4849f4b9-40fd-480c-cd24-9a7221f214e3"
      },
      "execution_count": null,
      "outputs": [
        {
          "output_type": "stream",
          "name": "stdout",
          "text": [
            "[0.1, 0.05, 0.07, 0.02, 0.04, 0.08]\n"
          ]
        }
      ]
    },
    {
      "cell_type": "markdown",
      "source": [
        "Inserindo elemento no fim da lista"
      ],
      "metadata": {
        "id": "yj8ogE6HrOAp"
      }
    },
    {
      "cell_type": "code",
      "source": [
        "# Para este caso o médoto será o append. SINTAXE: list.append(elemento)\n",
        "\n",
        "juros.append(0.09)\n",
        "print(juros)"
      ],
      "metadata": {
        "colab": {
          "base_uri": "https://localhost:8080/"
        },
        "id": "Ozec6ppOrSSy",
        "outputId": "e0ae1f85-7ab1-4942-e97c-7aceb4d0aa6a"
      },
      "execution_count": null,
      "outputs": [
        {
          "output_type": "stream",
          "name": "stdout",
          "text": [
            "[0.05, 0.07, 0.02, 0.04, 0.08, 0.09]\n"
          ]
        }
      ]
    },
    {
      "cell_type": "markdown",
      "source": [
        "Removento um elemento\n",
        "\n"
      ],
      "metadata": {
        "id": "97ShxocEsjCR"
      }
    },
    {
      "cell_type": "code",
      "source": [
        "# Para este caso o médoto será o remove. SINTAXE: list.remove(elemento)\n",
        "\n",
        "juros = [0.05, 0.07, 0.02, 0.04, 0.08, 0.09]\n",
        "\n",
        "juros.remove(0.09)\n",
        "print(juros)"
      ],
      "metadata": {
        "colab": {
          "base_uri": "https://localhost:8080/"
        },
        "id": "NhZPheiHsmQn",
        "outputId": "d8a8d0ae-335d-4768-a40d-9b9460d06848"
      },
      "execution_count": null,
      "outputs": [
        {
          "output_type": "stream",
          "name": "stdout",
          "text": [
            "[0.05, 0.07, 0.02, 0.04, 0.08]\n"
          ]
        }
      ]
    },
    {
      "cell_type": "markdown",
      "source": [
        "Removendo um elemento pelo o indice"
      ],
      "metadata": {
        "id": "Svu5DF_dtjXn"
      }
    },
    {
      "cell_type": "code",
      "source": [
        "# Para este caso o médoto será o pop. SINTAXE: list.pop(indice)\n",
        "\n",
        "juros = [0.05, 0.07, 0.02, 0.04, 0.08, 0.09]\n",
        "print(juros)\n",
        "\n",
        "juros.pop(2)\n",
        "print(juros)"
      ],
      "metadata": {
        "colab": {
          "base_uri": "https://localhost:8080/"
        },
        "id": "z0H8SDMBtn0o",
        "outputId": "e9b4251a-1609-4fb6-d2dc-7a717cb70ab1"
      },
      "execution_count": null,
      "outputs": [
        {
          "output_type": "stream",
          "name": "stdout",
          "text": [
            "[0.05, 0.07, 0.02, 0.04, 0.08, 0.09]\n",
            "[0.05, 0.07, 0.04, 0.08, 0.09]\n"
          ]
        }
      ]
    },
    {
      "cell_type": "markdown",
      "source": [
        "**CONVERSÃO** "
      ],
      "metadata": {
        "id": "n-GAGnLjvjZO"
      }
    },
    {
      "cell_type": "markdown",
      "source": [
        "Podemos converter alguns tipos de variáveis em listas, como *strings*"
      ],
      "metadata": {
        "id": "-XmQ6HdVvoYU"
      }
    },
    {
      "cell_type": "code",
      "source": [
        "email = 'andre.perez@gmail.com'\n",
        "caracteres_email = list(email)\n",
        "\n",
        "print(email)\n",
        "print(caracteres_email)"
      ],
      "metadata": {
        "colab": {
          "base_uri": "https://localhost:8080/"
        },
        "id": "NNdHiSyEvv9N",
        "outputId": "610b63b9-8976-457c-94b9-f2e8688dd690"
      },
      "execution_count": null,
      "outputs": [
        {
          "output_type": "stream",
          "name": "stdout",
          "text": [
            "andre.perez@gmail.com\n",
            "['a', 'n', 'd', 'r', 'e', '.', 'p', 'e', 'r', 'e', 'z', '@', 'g', 'm', 'a', 'i', 'l', '.', 'c', 'o', 'm']\n"
          ]
        }
      ]
    },
    {
      "cell_type": "markdown",
      "source": [
        "**AULA 2 - Conjuntos**"
      ],
      "metadata": {
        "id": "sSkbO5BdyZZb"
      }
    },
    {
      "cell_type": "markdown",
      "source": [
        "DEFINIÇÃO \n",
        "\n",
        "Armazena sequências imutáveis e desordenadas de valores, sem repetição. São do tipo set"
      ],
      "metadata": {
        "id": "Uvu4ZC3-zFz2"
      }
    },
    {
      "cell_type": "code",
      "source": [
        "frutas = {'banana','maca','uva','uva'}\n",
        "\n",
        "print(frutas)\n",
        "print(type(frutas))"
      ],
      "metadata": {
        "colab": {
          "base_uri": "https://localhost:8080/"
        },
        "id": "6Zp_XRK8zaZ-",
        "outputId": "94d8db1b-ef5a-44a1-a2ef-5f31b65450d4"
      },
      "execution_count": null,
      "outputs": [
        {
          "output_type": "stream",
          "name": "stdout",
          "text": [
            "{'uva', 'maca', 'banana'}\n",
            "<class 'set'>\n"
          ]
        }
      ]
    },
    {
      "cell_type": "markdown",
      "source": [
        "**Operações** \n",
        "\n",
        "as operações da estrutura do tipo *set *são:\n",
        "\n",
        "* (diferença) -\n",
        "\n"
      ],
      "metadata": {
        "id": "oasw2Gpsz6si"
      }
    },
    {
      "cell_type": "code",
      "source": [
        "# Exemplo. Países da Europa\n",
        "\n",
        "norte_europa = {'reino unido', 'suecia', 'russia', 'noruega', 'dinamarca'}\n",
        "escadinavia = {'noruega', 'dinamarca', 'suecia'}\n",
        "\n",
        "norte_europa_nao_escadinavia = norte_europa - escadinavia\n",
        "print(norte_europa_nao_escadinavia)"
      ],
      "metadata": {
        "colab": {
          "base_uri": "https://localhost:8080/"
        },
        "id": "cQTFUksg0M66",
        "outputId": "36765a10-e0da-40ee-ab0a-c8c79a1c3b3a"
      },
      "execution_count": null,
      "outputs": [
        {
          "output_type": "stream",
          "name": "stdout",
          "text": [
            "{'reino unido', 'russia'}\n"
          ]
        }
      ]
    },
    {
      "cell_type": "code",
      "source": [
        "# nesse 2º exemplo tbm observamos que a ordem vai importa para o resultado final \n",
        "\n",
        "escadinavia_nao_norte_europa = escadinavia - norte_europa\n",
        "print(escadinavia_nao_norte_europa)"
      ],
      "metadata": {
        "colab": {
          "base_uri": "https://localhost:8080/"
        },
        "id": "BzUMN_Oo1ps3",
        "outputId": "d37f3cf1-bf66-47ca-f52c-829a91d6692e"
      },
      "execution_count": null,
      "outputs": [
        {
          "output_type": "stream",
          "name": "stdout",
          "text": [
            "set()\n"
          ]
        }
      ]
    },
    {
      "cell_type": "markdown",
      "source": [
        "**MÉTODOS DE MANIPULAÇÃO**"
      ],
      "metadata": {
        "id": "_n0j_8Ub2odO"
      }
    },
    {
      "cell_type": "code",
      "source": [
        "cursos = {'Exatas', 'Humanas', 'Biológicas'}\n",
        "print(cursos)"
      ],
      "metadata": {
        "colab": {
          "base_uri": "https://localhost:8080/"
        },
        "id": "7L87ZZbq2u-t",
        "outputId": "a3583d55-46e9-4d51-dc7a-6a979e3c6294"
      },
      "execution_count": null,
      "outputs": [
        {
          "output_type": "stream",
          "name": "stdout",
          "text": [
            "{'Biológicas', 'Humanas', 'Exatas'}\n"
          ]
        }
      ]
    },
    {
      "cell_type": "markdown",
      "source": [
        "Inserindo um elemento no Conjunto.\n",
        "\n",
        "SINTAXE: set.add(elemento)"
      ],
      "metadata": {
        "id": "wSAutvP33Lck"
      }
    },
    {
      "cell_type": "code",
      "source": [
        "cursos.add('Saúde')\n",
        "print(cursos)\n",
        "\n",
        "# Observe que set= nome do conjunto, add é o atributo e entre parentes o que estamos adicionando..."
      ],
      "metadata": {
        "colab": {
          "base_uri": "https://localhost:8080/"
        },
        "id": "evJh-P0L3Y2r",
        "outputId": "10623b52-6b58-4823-b9c0-949238bfb98e"
      },
      "execution_count": null,
      "outputs": [
        {
          "output_type": "stream",
          "name": "stdout",
          "text": [
            "{'Biológicas', 'Saúde', 'Humanas', 'Exatas'}\n"
          ]
        }
      ]
    },
    {
      "cell_type": "markdown",
      "source": [
        "Removendo um elemento no Conjunto.\n",
        "\n",
        "SINTAXE: set.remove (elemento)"
      ],
      "metadata": {
        "id": "fkqXYO8c4HB9"
      }
    },
    {
      "cell_type": "code",
      "source": [
        "cursos.remove('Saúde')\n",
        "print(cursos)"
      ],
      "metadata": {
        "colab": {
          "base_uri": "https://localhost:8080/"
        },
        "id": "pDdw4qQj4L29",
        "outputId": "d2d3caba-546f-4fed-a53f-6261c4abe85b"
      },
      "execution_count": null,
      "outputs": [
        {
          "output_type": "stream",
          "name": "stdout",
          "text": [
            "{'Biológicas', 'Humanas', 'Exatas'}\n"
          ]
        }
      ]
    },
    {
      "cell_type": "markdown",
      "source": [
        "Obs.: Não conseguimos acessar um elemento de forma especifica nos conjuntos."
      ],
      "metadata": {
        "id": "BOQsUoy84gDy"
      }
    },
    {
      "cell_type": "markdown",
      "source": [
        "Podemos converter listas para conjuntos e vice e versa... \n",
        "Veja exemplo abaixo:\n"
      ],
      "metadata": {
        "id": "KJyABezT4_Uu"
      }
    },
    {
      "cell_type": "code",
      "source": [
        "times_paulistas = {'Palmeiras', 'São Paulo', 'Santos', 'Corinthians', \"Bragantino\"}\n",
        "\n",
        "print(times_paulistas)"
      ],
      "metadata": {
        "colab": {
          "base_uri": "https://localhost:8080/"
        },
        "id": "9dwDwCjo5HPD",
        "outputId": "fe8e3f31-5329-491d-ec75-40ba834567cc"
      },
      "execution_count": null,
      "outputs": [
        {
          "output_type": "stream",
          "name": "stdout",
          "text": [
            "{'Santos', 'São Paulo', 'Corinthians', 'Palmeiras', 'Bragantino'}\n"
          ]
        }
      ]
    },
    {
      "cell_type": "code",
      "source": [
        "lista_time_paulista = list(times_paulistas)\n",
        "\n",
        "print(lista_time_paulista)\n",
        "print(type(lista_time_paulista))\n",
        "print(len(lista_time_paulista)) # Observe que nesse caso no \"len\" vai me trazer a qntd de elementos "
      ],
      "metadata": {
        "colab": {
          "base_uri": "https://localhost:8080/"
        },
        "id": "Jm2AnbYU5gmk",
        "outputId": "c842b298-a7ca-45e4-f315-23e770c8b38f"
      },
      "execution_count": null,
      "outputs": [
        {
          "output_type": "stream",
          "name": "stdout",
          "text": [
            "['Santos', 'São Paulo', 'Corinthians', 'Palmeiras', 'Bragantino']\n",
            "<class 'list'>\n",
            "5\n"
          ]
        }
      ]
    },
    {
      "cell_type": "markdown",
      "source": [
        "**DICIONÁRIOS**"
      ],
      "metadata": {
        "id": "QzbjIA1a55HY"
      }
    },
    {
      "cell_type": "markdown",
      "source": [
        "Armazenam sequÊncias no formato chave-valor. São do tipo dict. "
      ],
      "metadata": {
        "id": "EABF9Wi96Abr"
      }
    },
    {
      "cell_type": "code",
      "source": [
        "# a chave de o valor vão estar separados por :, conforma no exemplo abaixo:\n",
        "\n",
        "brasil = {'capital':'Brasília', 'idioma': 'Português', 'população': 210}\n",
        "\n",
        "print (brasil)\n",
        "print(type(brasil))"
      ],
      "metadata": {
        "colab": {
          "base_uri": "https://localhost:8080/"
        },
        "id": "9KMWwdGn6mPN",
        "outputId": "449a6e42-ca9d-462b-8097-1971c8bcf4a3"
      },
      "execution_count": null,
      "outputs": [
        {
          "output_type": "stream",
          "name": "stdout",
          "text": [
            "{'capital': 'Brasília', 'idioma': 'Português', 'população': 210}\n",
            "<class 'dict'>\n"
          ]
        }
      ]
    },
    {
      "cell_type": "markdown",
      "source": [
        "Obs.: Uma informação importante é que o índice o valor sempre será a chave... Logo no ex. acima o índice de Brasília é capital. \n",
        "E outra questão importante tbm é que a chave sempre será uma STRING"
      ],
      "metadata": {
        "id": "Md9uI3qs7qqi"
      }
    },
    {
      "cell_type": "markdown",
      "source": [
        "Não é permitido chaves duplicadas...Vweja ex. abaixo:"
      ],
      "metadata": {
        "id": "-Doh27wK7dat"
      }
    },
    {
      "cell_type": "code",
      "source": [
        "carro = {\n",
        "    'marca': 'Volkswagen',\n",
        "    'modelo' : 'Polo',\n",
        "    'ano' : 2021,\n",
        "    'ano': 2004\n",
        "}\n",
        "\n",
        "print(carro)"
      ],
      "metadata": {
        "colab": {
          "base_uri": "https://localhost:8080/"
        },
        "id": "cBG90NTi8ryp",
        "outputId": "f3f969c6-aedd-4cb4-b998-0b0f30833b4d"
      },
      "execution_count": null,
      "outputs": [
        {
          "output_type": "stream",
          "name": "stdout",
          "text": [
            "{'marca': 'Volkswagen', 'modelo': 'Polo', 'ano': 2004}\n"
          ]
        }
      ]
    },
    {
      "cell_type": "markdown",
      "source": [
        "Podemos criar dicionários compostos:"
      ],
      "metadata": {
        "id": "Ulw4ed-d9T2R"
      }
    },
    {
      "cell_type": "code",
      "source": [
        "cadastro = {\n",
        "    'andre':{\n",
        "        'nome': 'Andre Perez',\n",
        "        'ano_nascimento': 1992,\n",
        "        'pais': {\n",
        "            'pai':{\n",
        "              'nome':'<nome-do-pai> Perez',\n",
        "               'ano_nascimento': 1971\n",
        "            },\n",
        "            'mae':{\n",
        "              'nome': '<nome-da-mae> Perez',\n",
        "               'ano_nascimento': 1973\n",
        "            },\n",
        "        },\n",
        "    },\n",
        "}\n",
        "\n",
        "print"
      ],
      "metadata": {
        "colab": {
          "base_uri": "https://localhost:8080/"
        },
        "id": "v_BLRV_M9Ysh",
        "outputId": "18be361c-b743-4d94-a7a6-1fdbd44014eb"
      },
      "execution_count": null,
      "outputs": [
        {
          "output_type": "execute_result",
          "data": {
            "text/plain": [
              "{'corpo': 'Toopicos, Aulas, Listas, Cojuntos, Dicionário,...',\n",
              " 'titulo': 'Modulo 02 | Python: Estrutura de dados'}"
            ]
          },
          "metadata": {},
          "execution_count": 58
        }
      ]
    },
    {
      "cell_type": "markdown",
      "source": [
        "Acessando um informação específica do dicionário"
      ],
      "metadata": {
        "id": "24FJwr23_bfw"
      }
    },
    {
      "cell_type": "code",
      "source": [
        "cadastro['andre']['pais']['mae']['ano_nascimento']"
      ],
      "metadata": {
        "colab": {
          "base_uri": "https://localhost:8080/"
        },
        "id": "QqdeAC1-_jeo",
        "outputId": "862288ec-0d44-4393-d256-38c020c8696d"
      },
      "execution_count": null,
      "outputs": [
        {
          "output_type": "execute_result",
          "data": {
            "text/plain": [
              "1973"
            ]
          },
          "metadata": {},
          "execution_count": 14
        }
      ]
    },
    {
      "cell_type": "markdown",
      "source": [
        "MANIPULANDO"
      ],
      "metadata": {
        "id": "9DvsJ4KrA3R5"
      }
    },
    {
      "cell_type": "code",
      "source": [
        "credito = {'123':750,'789':980}"
      ],
      "metadata": {
        "id": "R_u_2Kw2Bhrx"
      },
      "execution_count": null,
      "outputs": []
    },
    {
      "cell_type": "markdown",
      "source": [
        "OS elementos são acessados pela sua chave"
      ],
      "metadata": {
        "id": "kxRW2uiYBpzM"
      }
    },
    {
      "cell_type": "code",
      "source": [
        "credito = {'123':750,'789':980}\n",
        "\n",
        "score_123 = credito['123']\n",
        "score_789 = credito['789']\n",
        "\n",
        "print(score_123)\n",
        "print(score_789)"
      ],
      "metadata": {
        "colab": {
          "base_uri": "https://localhost:8080/"
        },
        "id": "rH-RjNW-Bygs",
        "outputId": "2ccbe428-68be-4862-c7e4-efce1ad05da6"
      },
      "execution_count": 1,
      "outputs": [
        {
          "output_type": "stream",
          "name": "stdout",
          "text": [
            "750\n",
            "980\n"
          ]
        }
      ]
    },
    {
      "cell_type": "markdown",
      "source": [
        "Os elementos são atualizados pela sua chave tbm, porém a chave vem antes do sinal de igual =. Veja abaixo:"
      ],
      "metadata": {
        "id": "vNAppa9TCVdu"
      }
    },
    {
      "cell_type": "code",
      "source": [
        "credito['123']=435\n",
        "\n",
        "print(credito)"
      ],
      "metadata": {
        "colab": {
          "base_uri": "https://localhost:8080/"
        },
        "id": "NL7zPKNnCcXi",
        "outputId": "6d86c36b-a2dd-436c-9f71-c8cfbd35cdc0"
      },
      "execution_count": 2,
      "outputs": [
        {
          "output_type": "stream",
          "name": "stdout",
          "text": [
            "{'123': 435, '789': 980}\n"
          ]
        }
      ]
    },
    {
      "cell_type": "markdown",
      "source": [
        "Para criar um no elemento, basta escrever igual a sintaxe de atualização, porém com uma nova chave. Veja abaixo:\n"
      ],
      "metadata": {
        "id": "sE9-4f4kC4Z-"
      }
    },
    {
      "cell_type": "code",
      "source": [
        "credito['456']=1000\n",
        "\n",
        "print(credito)"
      ],
      "metadata": {
        "colab": {
          "base_uri": "https://localhost:8080/"
        },
        "id": "5WL66t-JDHUH",
        "outputId": "cbc0c10f-2685-48c2-e9b1-cedfdee76fc6"
      },
      "execution_count": 3,
      "outputs": [
        {
          "output_type": "stream",
          "name": "stdout",
          "text": [
            "{'123': 435, '789': 980, '456': 1000}\n"
          ]
        }
      ]
    },
    {
      "cell_type": "markdown",
      "source": [
        "**MÉTODOS PARA DICIONÁRIOS **"
      ],
      "metadata": {
        "id": "qV8-MQZKDkRp"
      }
    },
    {
      "cell_type": "code",
      "source": [
        "# Veja abaixo um nova forma de declarar o dicionário, aonde não precisamos declarar a chave como string, pois já está subentendido. Veja a Sintaxe:\n",
        "\n",
        "artigo= dict(\n",
        "    titulo='Modulo 02 | Python: Estrutura de dados',\n",
        "    corpo='Topicos, Aulas, Listas, Conjuntos, Dicionários, ...',\n",
        "    total_caracteres=1530\n",
        ")\n",
        "\n",
        "print(artigo)"
      ],
      "metadata": {
        "colab": {
          "base_uri": "https://localhost:8080/"
        },
        "id": "s-rz5v_VD9X7",
        "outputId": "d8c3e60e-8c51-4150-a642-3bb332f25b3b"
      },
      "execution_count": 5,
      "outputs": [
        {
          "output_type": "stream",
          "name": "stdout",
          "text": [
            "{'titulo': 'Modulo 02 | Python: Estrutura de dados', 'corpo': 'Topicos, Aulas, Listas, Conjuntos, Dicionários, ...', 'total_caracteres': 1530}\n"
          ]
        }
      ]
    },
    {
      "cell_type": "markdown",
      "source": [
        "Acidionar/Atualizar um elemento pela chave-valor: dict.update(dict) "
      ],
      "metadata": {
        "id": "4gIYlT37FF_Z"
      }
    },
    {
      "cell_type": "code",
      "source": [
        "total_caracteres = artigo.pop('total_caracteres')\n",
        "\n",
        "print(artigo)\n",
        "\n",
        "artigo.update({'total_caracteres':7850})\n",
        "print(artigo)"
      ],
      "metadata": {
        "id": "BT3bXwchFTTi",
        "colab": {
          "base_uri": "https://localhost:8080/"
        },
        "outputId": "2ac6c3ee-feaf-40f4-ec7a-c30f6534a034"
      },
      "execution_count": 6,
      "outputs": [
        {
          "output_type": "stream",
          "name": "stdout",
          "text": [
            "{'titulo': 'Modulo 02 | Python: Estrutura de dados', 'corpo': 'Topicos, Aulas, Listas, Conjuntos, Dicionários, ...'}\n",
            "{'titulo': 'Modulo 02 | Python: Estrutura de dados', 'corpo': 'Topicos, Aulas, Listas, Conjuntos, Dicionários, ...', 'total_caracteres': 7850}\n"
          ]
        }
      ]
    },
    {
      "cell_type": "markdown",
      "source": [
        "Removendo um elemento do nosso dicioário. Veja SINTAXE:"
      ],
      "metadata": {
        "id": "EshTMj_XGZns"
      }
    },
    {
      "cell_type": "code",
      "source": [
        "artigo = dict(\n",
        "    titulo='Modulo 02 | Python: Estrutura de dados',\n",
        "    corpo = 'Toopicos, Aulas, Listas, Cojuntos, Dicionário,...',\n",
        "    total_caracteres=1530\n",
        ") \n",
        "\n",
        "print(artigo)\n",
        "\n",
        "total_caracteres = artigo.pop('total_caracteres')\n",
        "print(artigo)\n",
        "\n"
      ],
      "metadata": {
        "id": "WABbIowMGhnr",
        "colab": {
          "base_uri": "https://localhost:8080/"
        },
        "outputId": "bfc5ed00-241c-492f-9501-d63d90566791"
      },
      "execution_count": 7,
      "outputs": [
        {
          "output_type": "stream",
          "name": "stdout",
          "text": [
            "{'titulo': 'Modulo 02 | Python: Estrutura de dados', 'corpo': 'Toopicos, Aulas, Listas, Cojuntos, Dicionário,...', 'total_caracteres': 1530}\n",
            "{'titulo': 'Modulo 02 | Python: Estrutura de dados', 'corpo': 'Toopicos, Aulas, Listas, Cojuntos, Dicionário,...'}\n"
          ]
        }
      ]
    },
    {
      "cell_type": "markdown",
      "source": [
        "CONVERSÃO"
      ],
      "metadata": {
        "id": "OAG_kHeQOe9I"
      }
    },
    {
      "cell_type": "code",
      "source": [
        "Podemos converter às chaves e os itens de um dicionário em uma lista..."
      ],
      "metadata": {
        "id": "_3j1LT3SOhkG"
      },
      "execution_count": null,
      "outputs": []
    },
    {
      "cell_type": "code",
      "source": [
        "artigo = dict(\n",
        "    titulo='Modulo 02 | Python: Estrutura de dados',\n",
        "    corpo = 'Toopicos, Aulas, Listas, Cojuntos, Dicionário,...',\n",
        "    total_caracteres= 1530\n",
        ") "
      ],
      "metadata": {
        "id": "B3tGjbE-Op4p"
      },
      "execution_count": 10,
      "outputs": []
    },
    {
      "cell_type": "code",
      "source": [
        "chaves= list(artigo.keys())\n",
        "\n",
        "print(chaves)\n",
        "print(type(chaves))"
      ],
      "metadata": {
        "colab": {
          "base_uri": "https://localhost:8080/"
        },
        "id": "jz3BYIo-O7iJ",
        "outputId": "55c15f99-addc-4b6f-f450-1ee369751c54"
      },
      "execution_count": 11,
      "outputs": [
        {
          "output_type": "stream",
          "name": "stdout",
          "text": [
            "['titulo', 'corpo', 'total_caracteres']\n",
            "<class 'list'>\n"
          ]
        }
      ]
    },
    {
      "cell_type": "code",
      "source": [
        "valores= list(artigo.values())\n",
        "\n",
        "print(valores)\n",
        "print(type(valores))"
      ],
      "metadata": {
        "colab": {
          "base_uri": "https://localhost:8080/"
        },
        "id": "RAFWQr_UPddP",
        "outputId": "018cae45-2c24-4163-a43d-8da0e4a16ae9"
      },
      "execution_count": 12,
      "outputs": [
        {
          "output_type": "stream",
          "name": "stdout",
          "text": [
            "['Modulo 02 | Python: Estrutura de dados', 'Toopicos, Aulas, Listas, Cojuntos, Dicionário,...', 1530]\n",
            "<class 'list'>\n"
          ]
        }
      ]
    }
  ]
}