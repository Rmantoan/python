{
  "nbformat": 4,
  "nbformat_minor": 0,
  "metadata": {
    "colab": {
      "name": "Python_M2_support material02_exercise.ipynb",
      "provenance": [],
      "collapsed_sections": [],
      "toc_visible": true
    },
    "kernelspec": {
      "name": "python3",
      "display_name": "Python 3"
    }
  },
  "cells": [
    {
      "cell_type": "markdown",
      "metadata": {
        "id": "KJqp9AANOCtf"
      },
      "source": [
        "<img src=\"https://raw.githubusercontent.com/andre-marcos-perez/ebac-course-utils/main/media/logo/newebac_logo_black_half.png\" alt=\"ebac-logo\">\n",
        "\n",
        "---\n",
        "\n",
        "# **Módulo** | Python: Estruturas de Dados\n",
        "Caderno de **Exercícios**<br> \n",
        "Professor [André Perez](https://www.linkedin.com/in/andremarcosperez/)\n",
        "\n",
        "---"
      ]
    },
    {
      "cell_type": "markdown",
      "metadata": {
        "id": "d9jDtUbDOE1-"
      },
      "source": [
        "# **Tópicos**\n",
        "\n",
        "<ol type=\"1\">\n",
        "  <li>Listas;</li>\n",
        "  <li>Conjuntos;</li>\n",
        "  <li>Dicionários.</li>\n",
        "</ol>"
      ]
    },
    {
      "cell_type": "markdown",
      "metadata": {
        "id": "SmoHgt-lwkpD"
      },
      "source": [
        "---"
      ]
    },
    {
      "cell_type": "markdown",
      "metadata": {
        "id": "GABI6OW8OfQ2"
      },
      "source": [
        "# **Exercícios**"
      ]
    },
    {
      "cell_type": "markdown",
      "metadata": {
        "id": "muD1vxozykSC"
      },
      "source": [
        "## 1\\. Listas"
      ]
    },
    {
      "cell_type": "markdown",
      "metadata": {
        "id": "ahrFfCuBxJKs"
      },
      "source": [
        "Criei uma lista chamada `filmes` com o nome dos 10 primeiros filmes mais bem avaliados no site no [IMDB](https://www.imdb.com/chart/top/). Imprima o resultado."
      ]
    },
    {
      "cell_type": "code",
      "metadata": {
        "id": "OgL6Hv3bzOHI"
      },
      "source": [
        "# LIsta de Filme/Serie ranqueado por sua avaliação no IMDB.\n",
        "\n",
        "# 1º - Top Gun 8.6\n",
        "# 2º - Arremessando Alto' 7.4\n",
        "# 3º -'Obi-Wan Kenobi' 7.3\n",
        "# 4º - 'Stranger Things' 8.7\n",
        "# 5º - 'Tudo em t... tempo' 8.3\n",
        "# 6º - 'D.E - Multiverso da Loucura' 7.3\n",
        "# 7º - 'Batman' 7.9\n",
        "# 8º - 'The Boys' 8.7\n",
        "# 9º - 'Samrat Prithviraj' 7.7\n",
        "# 10º - 'O homem do norte' 7.3\n",
        "\n",
        "filmes = ['Stranger Things', 'The Boys', 'Top Gun', 'Tudo em t... tempo', 'Batman',\n",
        "          'Samrat Prithviraj', 'Arremessando Alto','Obi-Wan Kenobi', 'O homem do norte', 'D.E - Multiverso da Loucura']\n"
      ],
      "execution_count": 17,
      "outputs": []
    },
    {
      "cell_type": "markdown",
      "metadata": {
        "id": "KI9zQRT2xa7m"
      },
      "source": [
        "Simule a movimentação do *ranking*. Utilize os métodos `insert` e `pop` para trocar a posição do primeiro e do segundo filme da lista. Imprima o resultado.\n",
        "\n"
      ]
    },
    {
      "cell_type": "code",
      "metadata": {
        "id": "zX3mA3_GzrXH",
        "colab": {
          "base_uri": "https://localhost:8080/"
        },
        "outputId": "cf3dc7ef-9838-4b9b-9b71-af24f7ea8944"
      },
      "source": [
        "filmes.pop(0)\n",
        "filmes.insert(1,'Strangers Things')\n",
        "\n",
        "print(filmes)"
      ],
      "execution_count": 10,
      "outputs": [
        {
          "output_type": "stream",
          "name": "stdout",
          "text": [
            "['The Boys', 'Strangers Things', 'Top Gun', 'Tudo em t... tempo', 'Batman', 'Samrat Prithviraj', 'Arremessando Alto', 'Obi-Wan Kenobi', 'O homem do norte', 'D.E - Multiverso da Loucura']\n"
          ]
        }
      ]
    },
    {
      "cell_type": "markdown",
      "metadata": {
        "id": "zMN1Q3jdwoJm"
      },
      "source": [
        "---"
      ]
    },
    {
      "cell_type": "markdown",
      "metadata": {
        "id": "lxa5L6uF0ZJE"
      },
      "source": [
        "## 2\\. Conjuntos"
      ]
    },
    {
      "cell_type": "markdown",
      "metadata": {
        "id": "9JahS2Kj0d5u"
      },
      "source": [
        "Aconteceu um erro no seu *ranking*. Simule a duplicação dos três últimos filmes da lista. Imprima o resultado."
      ]
    },
    {
      "cell_type": "code",
      "metadata": {
        "id": "BnjnLBNC6PGe",
        "colab": {
          "base_uri": "https://localhost:8080/"
        },
        "outputId": "8e9e50a3-ce3e-452c-cd84-e5954b7ea3ce"
      },
      "source": [
        "filmes.append('Obi-Wan Kenobi')\n",
        "filmes.append('O homem do norte')\n",
        "filmes.append('D.E - Multiverso da Loucura')\n",
        "\n",
        "print(filmes)"
      ],
      "execution_count": 13,
      "outputs": [
        {
          "output_type": "stream",
          "name": "stdout",
          "text": [
            "['The Boys', 'Strangers Things', 'Top Gun', 'Tudo em t... tempo', 'Batman', 'Samrat Prithviraj', 'Arremessando Alto', 'Obi-Wan Kenobi', 'O homem do norte', 'D.E - Multiverso da Loucura', 'Obi-Wan Kenobi', 'O homem do norte', 'D.E - Multiverso da Loucura']\n"
          ]
        }
      ]
    },
    {
      "cell_type": "markdown",
      "metadata": {
        "id": "suxTfCJB6ZiX"
      },
      "source": [
        "Utiliza a conversão `set` e `list` para remover os valores duplicados. Imprima o resultado. "
      ]
    },
    {
      "cell_type": "code",
      "metadata": {
        "id": "ZvUGN-0n6joM",
        "colab": {
          "base_uri": "https://localhost:8080/"
        },
        "outputId": "03a3d75d-5ab5-4385-c1cb-47780bdfd0a4"
      },
      "source": [
        "filmes=set(filmes)\n",
        "\n",
        "print(filmes)\n",
        "print(type(filmes))\n",
        "\n",
        "filmes=list(filmes)\n",
        "print(filmes)\n",
        "print(type(filmes))"
      ],
      "execution_count": 16,
      "outputs": [
        {
          "output_type": "stream",
          "name": "stdout",
          "text": [
            "{'The Boys', 'O homem do norte', 'Strangers Things', 'Top Gun', 'Tudo em t... tempo', 'Arremessando Alto', 'D.E - Multiverso da Loucura', 'Batman', 'Obi-Wan Kenobi', 'Samrat Prithviraj'}\n",
            "<class 'set'>\n",
            "['The Boys', 'O homem do norte', 'Strangers Things', 'Top Gun', 'Tudo em t... tempo', 'Arremessando Alto', 'D.E - Multiverso da Loucura', 'Batman', 'Obi-Wan Kenobi', 'Samrat Prithviraj']\n",
            "<class 'list'>\n"
          ]
        }
      ]
    },
    {
      "cell_type": "markdown",
      "metadata": {
        "id": "ShkK35eQ6pAM"
      },
      "source": [
        "---"
      ]
    },
    {
      "cell_type": "markdown",
      "metadata": {
        "id": "EL_FzmxL6rTv"
      },
      "source": [
        "## 3\\. Dicionários"
      ]
    },
    {
      "cell_type": "markdown",
      "metadata": {
        "id": "i8l0gFqRCpfT"
      },
      "source": [
        "Repita os exercícios da parte 1 (listas). Os elementos da lista `filmes` devem ser dicionários no seguinte formato: `{'nome': <nome-do-filme>, 'ano': <ano do filme>}, 'sinopse': <sinopse do filme>}`. "
      ]
    },
    {
      "cell_type": "code",
      "metadata": {
        "id": "tu6MSFwGDnHv",
        "colab": {
          "base_uri": "https://localhost:8080/"
        },
        "outputId": "172d710d-946c-4321-c77b-7e0d06d346b6"
      },
      "source": [
        "filmes = ['Stranger Things', 'The Boys', 'Top Gun', 'Tudo em t... tempo', 'Batman',\n",
        "          'Samrat Prithviraj', 'Arremessando Alto','Obi-Wan Kenobi', 'O homem do norte', 'D.E - Multiverso da Loucura']\n",
        "\n",
        "\n",
        "acervo = {\n",
        "    'nome': '<nome-do-filme>',\n",
        "    'detalhes': {\n",
        "        'ano': '<ano do filme>',\n",
        "        'sinopse': '<sinopse do filme>'\n",
        "    }\n",
        "}\n",
        "\n",
        "print(acervo)\n",
        "\n",
        "# Pelo que eu entendi desse esxercícío era para criar a estrutura do nosso dicionário com as específicações descritas. "
      ],
      "execution_count": 21,
      "outputs": [
        {
          "output_type": "stream",
          "name": "stdout",
          "text": [
            "{'nome': '<nome-do-filme>', 'detalhes': {'ano': '<ano do filme>', 'sinopse': '<sinopse do filme>'}}\n"
          ]
        }
      ]
    }
  ]
}