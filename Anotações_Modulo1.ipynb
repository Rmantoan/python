{
  "nbformat": 4,
  "nbformat_minor": 0,
  "metadata": {
    "colab": {
      "name": "Untitled0.ipynb",
      "provenance": [],
      "toc_visible": true
    },
    "kernelspec": {
      "name": "python3",
      "display_name": "Python 3"
    },
    "language_info": {
      "name": "python"
    }
  },
  "cells": [
    {
      "cell_type": "code",
      "execution_count": null,
      "metadata": {
        "colab": {
          "base_uri": "https://localhost:8080/"
        },
        "id": "B4jyF4I3I7cp",
        "outputId": "70d48531-6341-4572-f67d-9db5145f385c"
      },
      "outputs": [
        {
          "output_type": "stream",
          "name": "stdout",
          "text": [
            "30\n",
            "27\n",
            "Rafael\n"
          ]
        }
      ],
      "source": [
        "idade = 30\n",
        "print (idade)\n",
        "\n",
        "idade = 27\n",
        "print (idade)\n",
        "\n",
        "nome = \"Rafael\"\n",
        "print (nome)"
      ]
    },
    {
      "cell_type": "code",
      "source": [
        "qtd_items_carrinho_compra = 0\n",
        "\n",
        "qtd_items_carrinho_compra = qtd_items_carrinho_compra +1 \n",
        "print (qtd_items_carrinho_compra)\n"
      ],
      "metadata": {
        "colab": {
          "base_uri": "https://localhost:8080/"
        },
        "id": "KZmw4ySnOttZ",
        "outputId": "5f8d0177-4921-4851-9c07-6d6693d1abf4"
      },
      "execution_count": null,
      "outputs": [
        {
          "output_type": "stream",
          "name": "stdout",
          "text": [
            "1\n"
          ]
        }
      ]
    },
    {
      "cell_type": "markdown",
      "source": [
        "**Mesma coisa do exemplo acima, porém mais enxuto **"
      ],
      "metadata": {
        "id": "XZQ0X-znPTMP"
      }
    },
    {
      "cell_type": "code",
      "source": [
        "qtd_items_carrinho_compra = 0\n",
        "\n",
        "qtd_items_carrinho_compra += 1 \n",
        "print (qtd_items_carrinho_compra)"
      ],
      "metadata": {
        "colab": {
          "base_uri": "https://localhost:8080/"
        },
        "id": "ngH0GwQSPjEr",
        "outputId": "30f6ec77-065b-4151-f26a-dd0a80d81e01"
      },
      "execution_count": null,
      "outputs": [
        {
          "output_type": "stream",
          "name": "stdout",
          "text": [
            "1\n"
          ]
        }
      ]
    },
    {
      "cell_type": "markdown",
      "source": [
        "EXEMPLO DE MULTIPLICAÇÃO "
      ],
      "metadata": {
        "id": "5PNnOnFuPxCO"
      }
    },
    {
      "cell_type": "code",
      "source": [
        "preco = 47\n",
        "qntd = 0.25\n",
        "\n",
        "total_pagar = preco * qntd\n",
        "print (total_pagar)"
      ],
      "metadata": {
        "colab": {
          "base_uri": "https://localhost:8080/"
        },
        "id": "2l6er90mP33N",
        "outputId": "2ab55b1c-999b-4281-8a76-74b99e77091f"
      },
      "execution_count": null,
      "outputs": [
        {
          "output_type": "stream",
          "name": "stdout",
          "text": [
            "11.75\n"
          ]
        }
      ]
    },
    {
      "cell_type": "markdown",
      "source": [
        "EXEMPLO DE DIVISÃO COMUM E DIVISÂO DO TIPO INTEIRO "
      ],
      "metadata": {
        "id": "GnoJgEakQ0KH"
      }
    },
    {
      "cell_type": "code",
      "source": [
        "a = 3\n",
        "b = 2\n",
        "\n",
        "c = a/b  \n",
        "print (c)\n",
        "print (type(c))\n",
        "\n",
        "#Exemplo de divisão inteira (//)\n",
        "\n",
        "d = a//b\n",
        "print (d)\n",
        "print (type(d))"
      ],
      "metadata": {
        "colab": {
          "base_uri": "https://localhost:8080/"
        },
        "id": "8Of3ChYiQ8-c",
        "outputId": "254fc9b6-aab5-4ab0-a2ed-01a2f66bcd32"
      },
      "execution_count": null,
      "outputs": [
        {
          "output_type": "stream",
          "name": "stdout",
          "text": [
            "1.5\n",
            "<class 'float'>\n",
            "1\n",
            "<class 'int'>\n"
          ]
        }
      ]
    },
    {
      "cell_type": "markdown",
      "source": [
        "**CONVERÇÃO **"
      ],
      "metadata": {
        "id": "fEJsCa31SWId"
      }
    },
    {
      "cell_type": "code",
      "source": [
        "print(int(3.9))"
      ],
      "metadata": {
        "colab": {
          "base_uri": "https://localhost:8080/"
        },
        "id": "a6T5B_3kSaGx",
        "outputId": "57d9e66c-e751-4c5e-9ff4-536db054e5bf"
      },
      "execution_count": null,
      "outputs": [
        {
          "output_type": "stream",
          "name": "stdout",
          "text": [
            "3\n"
          ]
        }
      ]
    },
    {
      "cell_type": "code",
      "source": [
        "print(float(3.9))"
      ],
      "metadata": {
        "colab": {
          "base_uri": "https://localhost:8080/"
        },
        "id": "Oh6PhdutSoEO",
        "outputId": "4e562d2a-41cf-4b2a-9f16-ba3fdcdbe177"
      },
      "execution_count": null,
      "outputs": [
        {
          "output_type": "stream",
          "name": "stdout",
          "text": [
            "3.9\n"
          ]
        }
      ]
    },
    {
      "cell_type": "code",
      "source": [
        "print(complex(1))  # uma variável imaginária é representada pela letra j"
      ],
      "metadata": {
        "colab": {
          "base_uri": "https://localhost:8080/"
        },
        "id": "U7n2BH6iSnyz",
        "outputId": "6e775556-150e-413a-bf24-1b6a3f11862e"
      },
      "execution_count": null,
      "outputs": [
        {
          "output_type": "stream",
          "name": "stdout",
          "text": [
            "(1+0j)\n"
          ]
        }
      ]
    },
    {
      "cell_type": "markdown",
      "source": [
        "AULA 4 - STRINGS"
      ],
      "metadata": {
        "id": "TVwW8nbhUAjS"
      }
    },
    {
      "cell_type": "markdown",
      "source": [
        "Armazena TEXTO\n",
        "\n",
        "* C, EBCA, Rafael Mantoan, 20 anos... \n",
        "\n",
        "São do tipo str:"
      ],
      "metadata": {
        "id": "VJ65mtjvVSzI"
      }
    },
    {
      "cell_type": "code",
      "source": [
        "nome_aula = 'Aula 04, Mósulo 01, Strings'\n",
        "\n",
        "print (nome_aula)\n",
        "print(type(nome_aula))"
      ],
      "metadata": {
        "colab": {
          "base_uri": "https://localhost:8080/"
        },
        "id": "zFKtBLf4UF2s",
        "outputId": "38ba866b-52c0-4f29-a6e9-6a82e4795aa2"
      },
      "execution_count": null,
      "outputs": [
        {
          "output_type": "stream",
          "name": "stdout",
          "text": [
            "Aula 04, Mósulo 01, Strings\n",
            "<class 'str'>\n"
          ]
        }
      ]
    },
    {
      "cell_type": "markdown",
      "source": [
        "4.3 Operações "
      ],
      "metadata": {
        "id": "PdObbnrtWBsx"
      }
    },
    {
      "cell_type": "markdown",
      "source": [
        "Operação de variáveis do tipo *STRING* são \n",
        "\n",
        "* + (concatenação)\n",
        "\n",
        "EXEMPLO: Nome completo"
      ],
      "metadata": {
        "id": "zRhZr4k4WGrg"
      }
    },
    {
      "cell_type": "code",
      "source": [
        "nome = \"Rafael\"\n",
        "sobrenome = \"Mantoan\"\n",
        "\n",
        "apresentacao = 'Olá, meu nome é ' + nome + ' '+sobrenome+ '.'\n",
        "print(apresentacao)"
      ],
      "metadata": {
        "colab": {
          "base_uri": "https://localhost:8080/"
        },
        "id": "-0shEKOtWXCg",
        "outputId": "2e873594-bf6c-43fb-d87c-81e591b23672"
      },
      "execution_count": null,
      "outputs": [
        {
          "output_type": "stream",
          "name": "stdout",
          "text": [
            "Olá, meu nome é Rafael Mantoan.\n"
          ]
        }
      ]
    },
    {
      "cell_type": "markdown",
      "source": [
        "Uma outra forma de concatenar é :"
      ],
      "metadata": {
        "id": "SHsXhAinXaho"
      }
    },
    {
      "cell_type": "code",
      "source": [
        "nome = 'Rafael'\n",
        "sobrenome = 'Mantoan'\n",
        "\n",
        "apresentacao = f'Olá, meu nome é {nome} {sobrenome}' # Não pode ter espaço entre o f e ' que inicia a frase, e as chaves tem que estar dentro do fechamento do mesmo.\n",
        "print(apresentacao)"
      ],
      "metadata": {
        "colab": {
          "base_uri": "https://localhost:8080/"
        },
        "id": "RYWzemy7XfkW",
        "outputId": "de3f8fc7-30f3-4bfa-853e-b18ae8161b32"
      },
      "execution_count": null,
      "outputs": [
        {
          "output_type": "stream",
          "name": "stdout",
          "text": [
            "Olá, meu nome é Rafael Mantoan\n"
          ]
        }
      ]
    },
    {
      "cell_type": "markdown",
      "source": [
        "FATIAMENTO (slicing)\n",
        "\n",
        "Ex.: Informação de e-mail."
      ],
      "metadata": {
        "id": "A-Eog0SQY2I4"
      }
    },
    {
      "cell_type": "code",
      "source": [
        "email = 'andre.perez@gmail.com'\n",
        "\n",
        "#Fatiamento FIXO\n",
        "\n",
        "print('0:' + email[0])\n",
        "print('11:' + email[11])\n",
        "\n",
        "#Invertendo a contagem (de traz para frente)\n",
        "\n",
        "print('-1:'+ email[-1])\n",
        "print('-4:'+ email[-4])"
      ],
      "metadata": {
        "colab": {
          "base_uri": "https://localhost:8080/"
        },
        "id": "2phRwx4LZe71",
        "outputId": "f95f7e75-662b-4bb6-bc83-5925cee25847"
      },
      "execution_count": null,
      "outputs": [
        {
          "output_type": "stream",
          "name": "stdout",
          "text": [
            "0:a\n",
            "11:@\n",
            "-1:m\n",
            "-4:.\n"
          ]
        }
      ]
    },
    {
      "cell_type": "markdown",
      "source": [
        "FATIAMENTO p/ Intervalo"
      ],
      "metadata": {
        "id": "v8xrhiFzbUbb"
      }
    },
    {
      "cell_type": "code",
      "source": [
        "email = 'andre.perez@gmail.com'\n",
        "\n",
        "email_usuario= email[0:11]\n",
        "print(email_usuario)\n",
        "\n",
        "# no intervalor ele vai trazer o último valor que foi especificado -1, como podemos verificar na resposta abaixo"
      ],
      "metadata": {
        "colab": {
          "base_uri": "https://localhost:8080/"
        },
        "id": "97snQFPpbYMM",
        "outputId": "e3aba7fa-9bef-46c9-a385-722999a094e4"
      },
      "execution_count": null,
      "outputs": [
        {
          "output_type": "stream",
          "name": "stdout",
          "text": [
            "andre.perez\n"
          ]
        }
      ]
    },
    {
      "cell_type": "code",
      "source": [
        "email_provedor= email[11:21]\n",
        "print(email_provedor)\n",
        "\n",
        "# nesta caso, obervamos que acrescentamos um valor a mais na cordenado para que o print venha  completo"
      ],
      "metadata": {
        "colab": {
          "base_uri": "https://localhost:8080/"
        },
        "id": "urMUXODub7HZ",
        "outputId": "eb0d3192-e366-41fd-a32c-5a56732a522d"
      },
      "execution_count": null,
      "outputs": [
        {
          "output_type": "stream",
          "name": "stdout",
          "text": [
            "@gmail.com\n"
          ]
        }
      ]
    },
    {
      "cell_type": "markdown",
      "source": [
        "MÉTODOS \n"
      ],
      "metadata": {
        "id": "PkNCdaRbdpUp"
      }
    },
    {
      "cell_type": "code",
      "source": [
        "endereco = 'Avenida Paulista, 1811, São Paulo, São Paulo, Brasil.'\n",
        "\n",
        "# para deixar todas as letras em Maiusculas usamos o recurso UPPER. SINTAXE: (variavel.upper())\n",
        "\n",
        "print(endereco.upper())"
      ],
      "metadata": {
        "colab": {
          "base_uri": "https://localhost:8080/"
        },
        "id": "Oqa0gwBGdtlO",
        "outputId": "cc5681d7-9ae8-4e93-bb95-0ac472f7ae8a"
      },
      "execution_count": null,
      "outputs": [
        {
          "output_type": "stream",
          "name": "stdout",
          "text": [
            "AVENIDA PAULISTA, 1811, SÃO PAULO, SÃO PAULO, BRASIL.\n"
          ]
        }
      ]
    },
    {
      "cell_type": "code",
      "source": [
        "# Para localizar uma string dentro da variável de texto usamos o FIND. SINTAXE: variavel.find('nome a ser localizado')\n",
        "# Assim que localizado ele traz o indice q começa a string\n",
        "\n",
        "posicao1 = endereco.find('1811')\n",
        "print(posicao1)\n",
        "\n",
        "#Já neste caso, como sabemos que não a string q estamos procrando não consta em nossa variavel, o mesmo nos retorna -1...\n",
        "posicao = endereco.find('Andre')\n",
        "print(posicao)\n"
      ],
      "metadata": {
        "colab": {
          "base_uri": "https://localhost:8080/"
        },
        "id": "EB5NcNf6eiSI",
        "outputId": "12449a13-d2cf-4689-b0a0-d20e859329a1"
      },
      "execution_count": null,
      "outputs": [
        {
          "output_type": "stream",
          "name": "stdout",
          "text": [
            "18\n",
            "-1\n"
          ]
        }
      ]
    },
    {
      "cell_type": "code",
      "source": [
        "# O metódo REPLACE vai substituir uma string por outra. SINTAXE:\n",
        "\n",
        "print(endereco.replace('Avenida','Av'))"
      ],
      "metadata": {
        "colab": {
          "base_uri": "https://localhost:8080/"
        },
        "id": "g46XD-pbgM6R",
        "outputId": "ff164109-7c00-4b5f-d2fc-bae31c514574"
      },
      "execution_count": null,
      "outputs": [
        {
          "output_type": "stream",
          "name": "stdout",
          "text": [
            "Av Paulista, 1811, São Paulo, São Paulo, Brasil.\n"
          ]
        }
      ]
    },
    {
      "cell_type": "code",
      "source": [
        ""
      ],
      "metadata": {
        "id": "ER79sQJ8jUG-"
      },
      "execution_count": null,
      "outputs": []
    },
    {
      "cell_type": "markdown",
      "source": [
        "o atributo LEN vai me dizer a qntd de caracteres em uma string "
      ],
      "metadata": {
        "id": "_Tk-CysojYOK"
      }
    }
  ]
}