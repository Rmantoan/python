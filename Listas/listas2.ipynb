{
 "cells": [
  {
   "cell_type": "markdown",
   "metadata": {},
   "source": [
    "CONTINUAÇÃO LISTAS "
   ]
  },
  {
   "cell_type": "markdown",
   "metadata": {},
   "source": [
    "Concatenação +  - consiste em juntarmos listas..."
   ]
  },
  {
   "cell_type": "code",
   "execution_count": 1,
   "metadata": {},
   "outputs": [
    {
     "name": "stdout",
     "output_type": "stream",
     "text": [
      "['xiaomi', 'huawei']\n",
      "['apple', 'motorola']\n",
      "['xiaomi', 'huawei', 'apple', 'motorola']\n"
     ]
    }
   ],
   "source": [
    "fabricante_china = ['xiaomi', 'huawei']\n",
    "fabricante_eua = ['apple', 'motorola']\n",
    "fabricante_mobile = fabricante_china + fabricante_eua\n",
    "\n",
    "print (fabricante_china)\n",
    "print (fabricante_eua)\n",
    "print (fabricante_mobile)"
   ]
  },
  {
   "cell_type": "markdown",
   "metadata": {},
   "source": [
    "Operação por fatiamento FIXO e por INTERVALO"
   ]
  },
  {
   "cell_type": "code",
   "execution_count": 2,
   "metadata": {},
   "outputs": [
    {
     "name": "stdout",
     "output_type": "stream",
     "text": [
      "0: xiaomi\n"
     ]
    }
   ],
   "source": [
    "# Fatiamento FIXO \n",
    "print (f'0: {fabricante_mobile[0]}') # Obs. que neste caso buscamos o elemento da lista pelo índice\n"
   ]
  },
  {
   "cell_type": "markdown",
   "metadata": {},
   "source": [
    "P/ INTERVALO    "
   ]
  },
  {
   "cell_type": "code",
   "execution_count": 7,
   "metadata": {},
   "outputs": [
    {
     "name": "stdout",
     "output_type": "stream",
     "text": [
      "['xiaomi', 'huawei', 'apple']\n",
      "['huawei', 'apple', 'motorola']\n"
     ]
    }
   ],
   "source": [
    "print(fabricante_mobile[0:3]) # Se atente que no índice final \"3\" que indicamos em nosso exemplo, ele vai nos trazer até a posição nº 2.as_integer_ratio\n",
    "\n",
    "# Outra opção é selecionar o intervalo usando \"len\" (até o final).Veja abaixo:\n",
    "\n",
    "#SINTAXE\n",
    "print(fabricante_mobile[1:len(fabricante_mobile)]) "
   ]
  },
  {
   "cell_type": "markdown",
   "metadata": {},
   "source": [
    "IMPORTANTE - Só podemos concatenar listas c/ listas, e strings c/ strings... "
   ]
  },
  {
   "cell_type": "markdown",
   "metadata": {},
   "source": [
    "Podemos alterar o elemento da lista pelo índice. Veja abaixo:"
   ]
  },
  {
   "cell_type": "code",
   "execution_count": 8,
   "metadata": {},
   "outputs": [
    {
     "name": "stdout",
     "output_type": "stream",
     "text": [
      "['xiaomi', 'huawei', 'apple', 'motorola']\n",
      "['xiaomi', 'huawei', 'nokia', 'motorola']\n"
     ]
    }
   ],
   "source": [
    "print(fabricante_mobile)\n",
    "\n",
    "fabricante_mobile[2] = 'nokia' # Obs que indicamos o item a ser modificado pelo seu indice\n",
    "print(fabricante_mobile)"
   ]
  },
  {
   "cell_type": "markdown",
   "metadata": {},
   "source": [
    "MÉTODOS     \n",
    "\n",
    "- Insert = vai substituir um elemento pelo seu índice \n",
    "    Sintaxe: list.inser(index, elemento)\n",
    "\n",
    "- Append = Insere um elemento no fim da lista. \n",
    "    Sintaxe: list.append(elemento)\n",
    "\n",
    "- Remove = remove um elemento da lista \n",
    "    Sintaxe: list.remove(elemento)\n",
    "\n",
    "- Pop = Remove um elemento pelo índice.\n",
    "    Sintaxe: list.pop(2) \n",
    "    obs.: Com o pop, além de remover o elemento da lista, conseguimos atribuir ao mesmo tempo esse elemente excluído a outra variável ou lista        "
   ]
  },
  {
   "cell_type": "markdown",
   "metadata": {},
   "source": [
    "CONVERSÃO "
   ]
  },
  {
   "cell_type": "markdown",
   "metadata": {},
   "source": [
    "Podemos converter alguns tipos de variáveis em listas, como strings. Veja abaixo:"
   ]
  },
  {
   "cell_type": "code",
   "execution_count": 9,
   "metadata": {},
   "outputs": [
    {
     "name": "stdout",
     "output_type": "stream",
     "text": [
      "andre.perez@gmail.com\n",
      "['a', 'n', 'd', 'r', 'e', '.', 'p', 'e', 'r', 'e', 'z', '@', 'g', 'm', 'a', 'i', 'l', '.', 'c', 'o', 'm']\n"
     ]
    }
   ],
   "source": [
    "email = 'andre.perez@gmail.com'\n",
    "caracteres_email = list(email)\n",
    "\n",
    "print(email) # o resultado esperado é que o e-mail seja apresentado como string\n",
    "print(caracteres_email) # o resultado esperado é que cada caractere se torne um elemento da lista"
   ]
  }
 ],
 "metadata": {
  "kernelspec": {
   "display_name": "Python 3.10.5 64-bit (windows store)",
   "language": "python",
   "name": "python3"
  },
  "language_info": {
   "codemirror_mode": {
    "name": "ipython",
    "version": 3
   },
   "file_extension": ".py",
   "mimetype": "text/x-python",
   "name": "python",
   "nbconvert_exporter": "python",
   "pygments_lexer": "ipython3",
   "version": "3.10.5"
  },
  "orig_nbformat": 4,
  "vscode": {
   "interpreter": {
    "hash": "f05704f4740528ec32f28c6a01955d2cfab9eb44c7658f067771bac1ea3accf5"
   }
  }
 },
 "nbformat": 4,
 "nbformat_minor": 2
}
