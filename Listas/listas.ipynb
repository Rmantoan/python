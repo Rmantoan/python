{
  "cells": [
    {
      "cell_type": "markdown",
      "metadata": {
        "id": "xIkWJpZ2chAg"
      },
      "source": [
        "# LISTAS\n"
      ]
    },
    {
      "cell_type": "markdown",
      "metadata": {
        "id": "176Ik2rtfH4e"
      },
      "source": [
        "sempre qndo falamos de listas vamos usar []...\n"
      ]
    },
    {
      "cell_type": "code",
      "execution_count": 1,
      "metadata": {
        "colab": {
          "base_uri": "https://localhost:8080/"
        },
        "id": "IN5MY0uIcozA",
        "outputId": "5ff32c51-8f7c-47fc-ace3-13f0f366204d"
      },
      "outputs": [
        {
          "name": "stdout",
          "output_type": "stream",
          "text": [
            "['banana', 'maça', 'laranja']\n"
          ]
        }
      ],
      "source": [
        "lista_compras = ['banana', 'maça', 'laranja']\n",
        "print(lista_compras)"
      ]
    },
    {
      "cell_type": "code",
      "execution_count": 2,
      "metadata": {
        "colab": {
          "base_uri": "https://localhost:8080/"
        },
        "id": "Ta5IErEUdeIF",
        "outputId": "b19dde7f-6bc5-4150-8f4e-297f4496e369"
      },
      "outputs": [
        {
          "name": "stdout",
          "output_type": "stream",
          "text": [
            "laranja\n",
            "maça\n"
          ]
        }
      ],
      "source": [
        "# Podemos imprimir uma informação da lista usando a posição. Veja abaixo:\n",
        "\n",
        "print(lista_compras[2]) # Lembrando que a posição inicial é 0. \n",
        "print(lista_compras[-2]) #E para começar de traz para frente usamos o numero da posição negativo. E nesse caso ele entende como posição inicial o 1."
      ]
    },
    {
      "cell_type": "markdown",
      "metadata": {
        "id": "_ZjKLUT5fNWU"
      },
      "source": [
        "Para acrescentarmos item/elemento nas listas, vamos usar o atributo .append. Veja exemplo abaixo:"
      ]
    },
    {
      "cell_type": "code",
      "execution_count": 4,
      "metadata": {
        "id": "_4OWvvx_fbyp"
      },
      "outputs": [],
      "source": [
        "lista_compras.append('beterraba') # O elemento sempre irá para p final da lista nesse caso... "
      ]
    },
    {
      "cell_type": "code",
      "execution_count": 5,
      "metadata": {
        "colab": {
          "base_uri": "https://localhost:8080/"
        },
        "id": "m2kN45MhfkZu",
        "outputId": "4ba6c8be-31bd-49bb-ab73-2a9290541fd5"
      },
      "outputs": [
        {
          "name": "stdout",
          "output_type": "stream",
          "text": [
            "['banana', 'maça', 'laranja', 'beterraba']\n"
          ]
        }
      ],
      "source": [
        "print(lista_compras)"
      ]
    },
    {
      "cell_type": "markdown",
      "metadata": {
        "id": "MYAmlvVPf-N8"
      },
      "source": [
        "Com o atributo .insert podemos indicar a posição da lista que queremos acrescentar esse elemento. Veja exemplo abaixo:"
      ]
    },
    {
      "cell_type": "code",
      "execution_count": 6,
      "metadata": {
        "colab": {
          "base_uri": "https://localhost:8080/"
        },
        "id": "B3KTks1bgM-n",
        "outputId": "a976c26b-4d2a-4e55-d4f7-1c0de767834c"
      },
      "outputs": [
        {
          "name": "stdout",
          "output_type": "stream",
          "text": [
            "['banana', 'chocolate', 'maça', 'laranja', 'beterraba']\n"
          ]
        }
      ],
      "source": [
        "lista_compras.insert(1,'chocolate') # Obs que nos parâmetros, primeiro vem a posição separado p/ virgula e depois o elemento.\n",
        "print(lista_compras)"
      ]
    },
    {
      "cell_type": "markdown",
      "metadata": {
        "id": "LmKXLSbpgwxV"
      },
      "source": [
        "Para apagar um item da lsita, vamos usar o atributo del. Veja exemplo abaixo:"
      ]
    },
    {
      "cell_type": "code",
      "execution_count": 7,
      "metadata": {
        "colab": {
          "base_uri": "https://localhost:8080/"
        },
        "id": "9HxGb3isg_QP",
        "outputId": "70962939-6322-4427-db43-2d1ceed5304e"
      },
      "outputs": [
        {
          "name": "stdout",
          "output_type": "stream",
          "text": [
            "['banana', 'chocolate', 'maça', 'laranja']\n"
          ]
        }
      ],
      "source": [
        "del lista_compras[4] # Obs que entre colchetes estamos indicando o índice do elemente a ser excluído\n",
        "print(lista_compras)"
      ]
    },
    {
      "cell_type": "markdown",
      "metadata": {
        "id": "fAhfM4c3hiJE"
      },
      "source": [
        "Se eu não souber a posição do elemento a ser excluído, podemos apagar ele pelo nome com o abritubo remove. Veja exemplo abaixo:"
      ]
    },
    {
      "cell_type": "code",
      "execution_count": 8,
      "metadata": {
        "colab": {
          "base_uri": "https://localhost:8080/"
        },
        "id": "Kw5UwCMAhtnF",
        "outputId": "4a303da2-23b2-4c7c-ea32-52a4a0c478ec"
      },
      "outputs": [
        {
          "name": "stdout",
          "output_type": "stream",
          "text": [
            "['banana', 'maça', 'laranja']\n"
          ]
        }
      ],
      "source": [
        "lista_compras.remove('chocolate')\n",
        "print(lista_compras)"
      ]
    },
    {
      "cell_type": "markdown",
      "metadata": {
        "id": "RwQnx0g3lWvF"
      },
      "source": [
        "Temos o método .pop que além de excluír o elemento de uma lista podemos ao mesmo tempo alocar o mesmo em uma variável. Veja emeplo abaixo:\n"
      ]
    },
    {
      "cell_type": "code",
      "execution_count": 11,
      "metadata": {
        "colab": {
          "base_uri": "https://localhost:8080/"
        },
        "id": "m4Es7FuelsiS",
        "outputId": "157c886d-13c4-48f1-a450-ba5eb1b5805e"
      },
      "outputs": [
        {
          "name": "stdout",
          "output_type": "stream",
          "text": [
            "['banana', 'maça']\n",
            "laranja\n"
          ]
        }
      ],
      "source": [
        "lista_compras = ['banana', 'maça', 'laranja']\n",
        "\n",
        "descarte = lista_compras.pop(-1)\n",
        "print(lista_compras)\n",
        "print(descarte)"
      ]
    },
    {
      "cell_type": "markdown",
      "metadata": {
        "id": "VcGsfhXqnZr4"
      },
      "source": [
        "CONCATENAÇÃO\n",
        "\n",
        "Concatenação é o operador que junta as lsitas...Veja Exemplo"
      ]
    },
    {
      "cell_type": "code",
      "execution_count": 12,
      "metadata": {
        "colab": {
          "base_uri": "https://localhost:8080/"
        },
        "id": "YSbs9-n-nrkl",
        "outputId": "c2fbb770-091f-4a6a-9b84-df2188f1e1f4"
      },
      "outputs": [
        {
          "name": "stdout",
          "output_type": "stream",
          "text": [
            "['banana', 'maça', 'laranja', 'carne', 'ovos', 'frango']\n"
          ]
        }
      ],
      "source": [
        "lista_frutas = ['banana', 'maça', 'laranja']\n",
        "lista_mistura = ['carne', 'ovos', 'frango']\n",
        "lista_completa = lista_frutas + lista_mistura\n",
        "\n",
        "print (lista_completa)\n"
      ]
    }
  ],
  "metadata": {
    "colab": {
      "name": "Untitled0.ipynb",
      "provenance": [],
      "toc_visible": true
    },
    "kernelspec": {
      "display_name": "Python 3.10.5 64-bit (windows store)",
      "language": "python",
      "name": "python3"
    },
    "language_info": {
      "codemirror_mode": {
        "name": "ipython",
        "version": 3
      },
      "file_extension": ".py",
      "mimetype": "text/x-python",
      "name": "python",
      "nbconvert_exporter": "python",
      "pygments_lexer": "ipython3",
      "version": "3.10.5"
    },
    "vscode": {
      "interpreter": {
        "hash": "f05704f4740528ec32f28c6a01955d2cfab9eb44c7658f067771bac1ea3accf5"
      }
    }
  },
  "nbformat": 4,
  "nbformat_minor": 0
}
